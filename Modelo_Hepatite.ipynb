{
  "nbformat": 4,
  "nbformat_minor": 0,
  "metadata": {
    "colab": {
      "name": "Modelo.Hepatite",
      "provenance": [],
      "collapsed_sections": [],
      "mount_file_id": "1Oi25nG5ZSQqlZX1nrDz8WvEHNTUjAXS5",
      "authorship_tag": "ABX9TyMryjFpdfC9ZyrYu+ErbWEF",
      "include_colab_link": true
    },
    "kernelspec": {
      "name": "python3",
      "display_name": "Python 3"
    }
  },
  "cells": [
    {
      "cell_type": "markdown",
      "metadata": {
        "id": "view-in-github",
        "colab_type": "text"
      },
      "source": [
        "<a href=\"https://colab.research.google.com/github/hugofelix8282/DataScience/blob/main/Modelo_Hepatite.ipynb\" target=\"_parent\"><img src=\"https://colab.research.google.com/assets/colab-badge.svg\" alt=\"Open In Colab\"/></a>"
      ]
    },
    {
      "cell_type": "markdown",
      "metadata": {
        "id": "HwGNDRTb5PdD"
      },
      "source": [
        "**Banco de dados de diabetes dos índios Pima**\r\n",
        "# Preveja o aparecimento de diabetes com base em medidas de diagnóstico\r\n",
        "\r\n",
        "![diabettes.jpg](data:image/jpeg;base64,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)\r\n",
        "\r\n",
        "O projeto tem o objetivo de criar um modelo machine Learning para prever  com diagnóstico se um paciente tem diabetes ou não. Usando a base de dados disponível pelo Kaggle no link: https://www.kaggle.com/uciml/pima-indians-diabetes-database/data.  O conjunto de dados é originalmente do Instituto Nacional de Diabetes e Doenças Digestivas e Renais e todos os pacientes aqui são mulheres com pelo menos 21 anos de herança indígena Pima.\r\n",
        "\r\n",
        "Processos do projeto: \r\n",
        "\r\n",
        "Analise Exploratório dos dados;\r\n",
        "\r\n",
        "Escolha do algoritmo;\r\n",
        "\r\n",
        "Treinamento de modelo;\r\n",
        "\r\n",
        "Avaliação do modelo;\r\n",
        "\r\n"
      ]
    },
    {
      "cell_type": "markdown",
      "metadata": {
        "id": "3mXiS2UkMqoe"
      },
      "source": [
        "O projeto foi desenvolvido no ambiente Google Colaboratory, no qual fornece todos os recursos necessários para desenvolvimento de modelos de aprendizagem machine Learning. Logo,  primeiro passo é importar todas as bibliotecas necessárias. "
      ]
    },
    {
      "cell_type": "code",
      "metadata": {
        "id": "Dr1mme3vRL48"
      },
      "source": [
        "import numpy as np\r\n",
        "import matplotlib.pyplot as plt\r\n",
        "import pandas as pd\r\n",
        "from matplotlib import style\r\n",
        "import matplotlib as mpl\r\n",
        "%matplotlib inline\r\n",
        "from sklearn.model_selection import train_test_split\r\n",
        "from sklearn.metrics import mean_squared_error, r2_score\r\n",
        "import sklearn\r\n",
        "import seaborn as sns\r\n",
        "sns.set(style = \"darkgrid\")\r\n",
        "sns.set(style = \"dark\")\r\n",
        "\r\n"
      ],
      "execution_count": 1,
      "outputs": []
    },
    {
      "cell_type": "markdown",
      "metadata": {
        "id": "hoZUlEc0NVrz"
      },
      "source": [
        "# **Exploração dos Dados**\r\n",
        "\r\n",
        "É usado a biblioteca pandas para importação do arquivo CSV, assim, terá recursos para detalhar as variáveis contidas no dataset."
      ]
    },
    {
      "cell_type": "code",
      "metadata": {
        "colab": {
          "base_uri": "https://localhost:8080/",
          "height": 419
        },
        "id": "o3kjdWwcSXnA",
        "outputId": "4bb96fb2-6a4c-410d-c540-723671aa7941"
      },
      "source": [
        "data = pd.read_csv('/content/pima-data.csv')\r\n",
        "data= data.copy()\r\n",
        "data\r\n",
        "\r\n"
      ],
      "execution_count": 2,
      "outputs": [
        {
          "output_type": "execute_result",
          "data": {
            "text/html": [
              "<div>\n",
              "<style scoped>\n",
              "    .dataframe tbody tr th:only-of-type {\n",
              "        vertical-align: middle;\n",
              "    }\n",
              "\n",
              "    .dataframe tbody tr th {\n",
              "        vertical-align: top;\n",
              "    }\n",
              "\n",
              "    .dataframe thead th {\n",
              "        text-align: right;\n",
              "    }\n",
              "</style>\n",
              "<table border=\"1\" class=\"dataframe\">\n",
              "  <thead>\n",
              "    <tr style=\"text-align: right;\">\n",
              "      <th></th>\n",
              "      <th>num_preg</th>\n",
              "      <th>glucose_conc</th>\n",
              "      <th>diastolic_bp</th>\n",
              "      <th>thickness</th>\n",
              "      <th>insulin</th>\n",
              "      <th>bmi</th>\n",
              "      <th>diab_pred</th>\n",
              "      <th>age</th>\n",
              "      <th>skin</th>\n",
              "      <th>diabetes</th>\n",
              "    </tr>\n",
              "  </thead>\n",
              "  <tbody>\n",
              "    <tr>\n",
              "      <th>0</th>\n",
              "      <td>6</td>\n",
              "      <td>148</td>\n",
              "      <td>72</td>\n",
              "      <td>35</td>\n",
              "      <td>0</td>\n",
              "      <td>33.6</td>\n",
              "      <td>0.627</td>\n",
              "      <td>50</td>\n",
              "      <td>1.3780</td>\n",
              "      <td>True</td>\n",
              "    </tr>\n",
              "    <tr>\n",
              "      <th>1</th>\n",
              "      <td>1</td>\n",
              "      <td>85</td>\n",
              "      <td>66</td>\n",
              "      <td>29</td>\n",
              "      <td>0</td>\n",
              "      <td>26.6</td>\n",
              "      <td>0.351</td>\n",
              "      <td>31</td>\n",
              "      <td>1.1426</td>\n",
              "      <td>False</td>\n",
              "    </tr>\n",
              "    <tr>\n",
              "      <th>2</th>\n",
              "      <td>8</td>\n",
              "      <td>183</td>\n",
              "      <td>64</td>\n",
              "      <td>0</td>\n",
              "      <td>0</td>\n",
              "      <td>23.3</td>\n",
              "      <td>0.672</td>\n",
              "      <td>32</td>\n",
              "      <td>0.0000</td>\n",
              "      <td>True</td>\n",
              "    </tr>\n",
              "    <tr>\n",
              "      <th>3</th>\n",
              "      <td>1</td>\n",
              "      <td>89</td>\n",
              "      <td>66</td>\n",
              "      <td>23</td>\n",
              "      <td>94</td>\n",
              "      <td>28.1</td>\n",
              "      <td>0.167</td>\n",
              "      <td>21</td>\n",
              "      <td>0.9062</td>\n",
              "      <td>False</td>\n",
              "    </tr>\n",
              "    <tr>\n",
              "      <th>4</th>\n",
              "      <td>0</td>\n",
              "      <td>137</td>\n",
              "      <td>40</td>\n",
              "      <td>35</td>\n",
              "      <td>168</td>\n",
              "      <td>43.1</td>\n",
              "      <td>2.288</td>\n",
              "      <td>33</td>\n",
              "      <td>1.3790</td>\n",
              "      <td>True</td>\n",
              "    </tr>\n",
              "    <tr>\n",
              "      <th>...</th>\n",
              "      <td>...</td>\n",
              "      <td>...</td>\n",
              "      <td>...</td>\n",
              "      <td>...</td>\n",
              "      <td>...</td>\n",
              "      <td>...</td>\n",
              "      <td>...</td>\n",
              "      <td>...</td>\n",
              "      <td>...</td>\n",
              "      <td>...</td>\n",
              "    </tr>\n",
              "    <tr>\n",
              "      <th>763</th>\n",
              "      <td>10</td>\n",
              "      <td>101</td>\n",
              "      <td>76</td>\n",
              "      <td>48</td>\n",
              "      <td>180</td>\n",
              "      <td>32.9</td>\n",
              "      <td>0.171</td>\n",
              "      <td>63</td>\n",
              "      <td>1.8912</td>\n",
              "      <td>False</td>\n",
              "    </tr>\n",
              "    <tr>\n",
              "      <th>764</th>\n",
              "      <td>2</td>\n",
              "      <td>122</td>\n",
              "      <td>70</td>\n",
              "      <td>27</td>\n",
              "      <td>0</td>\n",
              "      <td>36.8</td>\n",
              "      <td>0.340</td>\n",
              "      <td>27</td>\n",
              "      <td>1.0638</td>\n",
              "      <td>False</td>\n",
              "    </tr>\n",
              "    <tr>\n",
              "      <th>765</th>\n",
              "      <td>5</td>\n",
              "      <td>121</td>\n",
              "      <td>72</td>\n",
              "      <td>23</td>\n",
              "      <td>112</td>\n",
              "      <td>26.2</td>\n",
              "      <td>0.245</td>\n",
              "      <td>30</td>\n",
              "      <td>0.9062</td>\n",
              "      <td>False</td>\n",
              "    </tr>\n",
              "    <tr>\n",
              "      <th>766</th>\n",
              "      <td>1</td>\n",
              "      <td>126</td>\n",
              "      <td>60</td>\n",
              "      <td>0</td>\n",
              "      <td>0</td>\n",
              "      <td>30.1</td>\n",
              "      <td>0.349</td>\n",
              "      <td>47</td>\n",
              "      <td>0.0000</td>\n",
              "      <td>True</td>\n",
              "    </tr>\n",
              "    <tr>\n",
              "      <th>767</th>\n",
              "      <td>1</td>\n",
              "      <td>93</td>\n",
              "      <td>70</td>\n",
              "      <td>31</td>\n",
              "      <td>0</td>\n",
              "      <td>30.4</td>\n",
              "      <td>0.315</td>\n",
              "      <td>23</td>\n",
              "      <td>1.2214</td>\n",
              "      <td>False</td>\n",
              "    </tr>\n",
              "  </tbody>\n",
              "</table>\n",
              "<p>768 rows × 10 columns</p>\n",
              "</div>"
            ],
            "text/plain": [
              "     num_preg  glucose_conc  diastolic_bp  ...  age    skin  diabetes\n",
              "0           6           148            72  ...   50  1.3780      True\n",
              "1           1            85            66  ...   31  1.1426     False\n",
              "2           8           183            64  ...   32  0.0000      True\n",
              "3           1            89            66  ...   21  0.9062     False\n",
              "4           0           137            40  ...   33  1.3790      True\n",
              "..        ...           ...           ...  ...  ...     ...       ...\n",
              "763        10           101            76  ...   63  1.8912     False\n",
              "764         2           122            70  ...   27  1.0638     False\n",
              "765         5           121            72  ...   30  0.9062     False\n",
              "766         1           126            60  ...   47  0.0000      True\n",
              "767         1            93            70  ...   23  1.2214     False\n",
              "\n",
              "[768 rows x 10 columns]"
            ]
          },
          "metadata": {
            "tags": []
          },
          "execution_count": 2
        }
      ]
    },
    {
      "cell_type": "markdown",
      "metadata": {
        "id": "ntnwOpIiOGBg"
      },
      "source": [
        "Com a função value_counts é visualizado a contagem de valores únicos dos elementos.  "
      ]
    },
    {
      "cell_type": "code",
      "metadata": {
        "colab": {
          "base_uri": "https://localhost:8080/"
        },
        "id": "NtMxWW8KTZhd",
        "outputId": "8d7f9915-9598-46b6-a7b9-acf78f181a07"
      },
      "source": [
        "# soma dos valores\r\n",
        "data.value_counts()"
      ],
      "execution_count": 3,
      "outputs": [
        {
          "output_type": "execute_result",
          "data": {
            "text/plain": [
              "num_preg  glucose_conc  diastolic_bp  thickness  insulin  bmi   diab_pred  age  skin    diabetes\n",
              "17        163           72            41         114      40.9  0.817      47   1.6154  True        1\n",
              "15        136           70            32         110      37.1  0.153      43   1.2608  True        1\n",
              "2         87            58            16         52       32.7  0.166      25   0.6304  False       1\n",
              "                        0             23         0        28.9  0.773      25   0.9062  False       1\n",
              "          85            65            0          0        39.6  0.930      27   0.0000  False       1\n",
              "                                                                                                   ..\n",
              "5         106           82            30         0        39.5  0.286      38   1.1820  False       1\n",
              "          105           72            29         325      36.9  0.159      28   1.1426  False       1\n",
              "          104           74            0          0        28.8  0.153      48   0.0000  False       1\n",
              "          103           108           37         0        39.2  0.305      65   1.4578  False       1\n",
              "0         57            60            0          0        21.7  0.735      67   0.0000  False       1\n",
              "Length: 768, dtype: int64"
            ]
          },
          "metadata": {
            "tags": []
          },
          "execution_count": 3
        }
      ]
    },
    {
      "cell_type": "markdown",
      "metadata": {
        "id": "MpsjoHD8OrnA"
      },
      "source": [
        "Logo, usaremos a função isnull verificar se existe valores nulos (missing) no dataset."
      ]
    },
    {
      "cell_type": "code",
      "metadata": {
        "colab": {
          "base_uri": "https://localhost:8080/"
        },
        "id": "AGoqOJ_0UD2V",
        "outputId": "aa7c87ba-3df7-402b-b66d-eae515d3b7b6"
      },
      "source": [
        "# verificar os valores nulos\r\n",
        "data.isnull().sum()"
      ],
      "execution_count": 4,
      "outputs": [
        {
          "output_type": "execute_result",
          "data": {
            "text/plain": [
              "num_preg        0\n",
              "glucose_conc    0\n",
              "diastolic_bp    0\n",
              "thickness       0\n",
              "insulin         0\n",
              "bmi             0\n",
              "diab_pred       0\n",
              "age             0\n",
              "skin            0\n",
              "diabetes        0\n",
              "dtype: int64"
            ]
          },
          "metadata": {
            "tags": []
          },
          "execution_count": 4
        }
      ]
    },
    {
      "cell_type": "markdown",
      "metadata": {
        "id": "kUp1yPrpPDw8"
      },
      "source": [
        "A função describe() faz um resumo estatisco sobre cada variável do dataset, onde poderemos observar  a média, desvio padrão, Quartil, mínimo e máximo de cada coluna."
      ]
    },
    {
      "cell_type": "code",
      "metadata": {
        "colab": {
          "base_uri": "https://localhost:8080/",
          "height": 297
        },
        "id": "7Np6lyijUYNo",
        "outputId": "4aaf05ee-36da-493a-f436-bce0538424df"
      },
      "source": [
        "data.describe()"
      ],
      "execution_count": 5,
      "outputs": [
        {
          "output_type": "execute_result",
          "data": {
            "text/html": [
              "<div>\n",
              "<style scoped>\n",
              "    .dataframe tbody tr th:only-of-type {\n",
              "        vertical-align: middle;\n",
              "    }\n",
              "\n",
              "    .dataframe tbody tr th {\n",
              "        vertical-align: top;\n",
              "    }\n",
              "\n",
              "    .dataframe thead th {\n",
              "        text-align: right;\n",
              "    }\n",
              "</style>\n",
              "<table border=\"1\" class=\"dataframe\">\n",
              "  <thead>\n",
              "    <tr style=\"text-align: right;\">\n",
              "      <th></th>\n",
              "      <th>num_preg</th>\n",
              "      <th>glucose_conc</th>\n",
              "      <th>diastolic_bp</th>\n",
              "      <th>thickness</th>\n",
              "      <th>insulin</th>\n",
              "      <th>bmi</th>\n",
              "      <th>diab_pred</th>\n",
              "      <th>age</th>\n",
              "      <th>skin</th>\n",
              "    </tr>\n",
              "  </thead>\n",
              "  <tbody>\n",
              "    <tr>\n",
              "      <th>count</th>\n",
              "      <td>768.000000</td>\n",
              "      <td>768.000000</td>\n",
              "      <td>768.000000</td>\n",
              "      <td>768.000000</td>\n",
              "      <td>768.000000</td>\n",
              "      <td>768.000000</td>\n",
              "      <td>768.000000</td>\n",
              "      <td>768.000000</td>\n",
              "      <td>768.000000</td>\n",
              "    </tr>\n",
              "    <tr>\n",
              "      <th>mean</th>\n",
              "      <td>3.845052</td>\n",
              "      <td>120.894531</td>\n",
              "      <td>69.105469</td>\n",
              "      <td>20.536458</td>\n",
              "      <td>79.799479</td>\n",
              "      <td>31.992578</td>\n",
              "      <td>0.471876</td>\n",
              "      <td>33.240885</td>\n",
              "      <td>0.809135</td>\n",
              "    </tr>\n",
              "    <tr>\n",
              "      <th>std</th>\n",
              "      <td>3.369578</td>\n",
              "      <td>31.972618</td>\n",
              "      <td>19.355807</td>\n",
              "      <td>15.952218</td>\n",
              "      <td>115.244002</td>\n",
              "      <td>7.884160</td>\n",
              "      <td>0.331329</td>\n",
              "      <td>11.760232</td>\n",
              "      <td>0.628516</td>\n",
              "    </tr>\n",
              "    <tr>\n",
              "      <th>min</th>\n",
              "      <td>0.000000</td>\n",
              "      <td>0.000000</td>\n",
              "      <td>0.000000</td>\n",
              "      <td>0.000000</td>\n",
              "      <td>0.000000</td>\n",
              "      <td>0.000000</td>\n",
              "      <td>0.078000</td>\n",
              "      <td>21.000000</td>\n",
              "      <td>0.000000</td>\n",
              "    </tr>\n",
              "    <tr>\n",
              "      <th>25%</th>\n",
              "      <td>1.000000</td>\n",
              "      <td>99.000000</td>\n",
              "      <td>62.000000</td>\n",
              "      <td>0.000000</td>\n",
              "      <td>0.000000</td>\n",
              "      <td>27.300000</td>\n",
              "      <td>0.243750</td>\n",
              "      <td>24.000000</td>\n",
              "      <td>0.000000</td>\n",
              "    </tr>\n",
              "    <tr>\n",
              "      <th>50%</th>\n",
              "      <td>3.000000</td>\n",
              "      <td>117.000000</td>\n",
              "      <td>72.000000</td>\n",
              "      <td>23.000000</td>\n",
              "      <td>30.500000</td>\n",
              "      <td>32.000000</td>\n",
              "      <td>0.372500</td>\n",
              "      <td>29.000000</td>\n",
              "      <td>0.906200</td>\n",
              "    </tr>\n",
              "    <tr>\n",
              "      <th>75%</th>\n",
              "      <td>6.000000</td>\n",
              "      <td>140.250000</td>\n",
              "      <td>80.000000</td>\n",
              "      <td>32.000000</td>\n",
              "      <td>127.250000</td>\n",
              "      <td>36.600000</td>\n",
              "      <td>0.626250</td>\n",
              "      <td>41.000000</td>\n",
              "      <td>1.260800</td>\n",
              "    </tr>\n",
              "    <tr>\n",
              "      <th>max</th>\n",
              "      <td>17.000000</td>\n",
              "      <td>199.000000</td>\n",
              "      <td>122.000000</td>\n",
              "      <td>99.000000</td>\n",
              "      <td>846.000000</td>\n",
              "      <td>67.100000</td>\n",
              "      <td>2.420000</td>\n",
              "      <td>81.000000</td>\n",
              "      <td>3.900600</td>\n",
              "    </tr>\n",
              "  </tbody>\n",
              "</table>\n",
              "</div>"
            ],
            "text/plain": [
              "         num_preg  glucose_conc  ...         age        skin\n",
              "count  768.000000    768.000000  ...  768.000000  768.000000\n",
              "mean     3.845052    120.894531  ...   33.240885    0.809135\n",
              "std      3.369578     31.972618  ...   11.760232    0.628516\n",
              "min      0.000000      0.000000  ...   21.000000    0.000000\n",
              "25%      1.000000     99.000000  ...   24.000000    0.000000\n",
              "50%      3.000000    117.000000  ...   29.000000    0.906200\n",
              "75%      6.000000    140.250000  ...   41.000000    1.260800\n",
              "max     17.000000    199.000000  ...   81.000000    3.900600\n",
              "\n",
              "[8 rows x 9 columns]"
            ]
          },
          "metadata": {
            "tags": []
          },
          "execution_count": 5
        }
      ]
    },
    {
      "cell_type": "markdown",
      "metadata": {
        "id": "z21patuxPzm4"
      },
      "source": [
        "Em uma análise exploratória de dados temos que verificar a correlação de pares de colunas, excluindo NA / valores nulos de cada variável. "
      ]
    },
    {
      "cell_type": "code",
      "metadata": {
        "id": "n1FRq905WcF3",
        "colab": {
          "base_uri": "https://localhost:8080/",
          "height": 359
        },
        "outputId": "abde735a-f030-484a-8d39-35ad6994fb49"
      },
      "source": [
        "# Visualizando a correlação em tabela\r\n",
        "# Coeficiente de correlação: \r\n",
        "# +1  = forte correlação positiva\r\n",
        "# 0   = não há correlação\r\n",
        "# -1  = forte correlação negativa\r\n",
        "corr =data.corr()\r\n",
        "corr"
      ],
      "execution_count": 10,
      "outputs": [
        {
          "output_type": "execute_result",
          "data": {
            "text/html": [
              "<div>\n",
              "<style scoped>\n",
              "    .dataframe tbody tr th:only-of-type {\n",
              "        vertical-align: middle;\n",
              "    }\n",
              "\n",
              "    .dataframe tbody tr th {\n",
              "        vertical-align: top;\n",
              "    }\n",
              "\n",
              "    .dataframe thead th {\n",
              "        text-align: right;\n",
              "    }\n",
              "</style>\n",
              "<table border=\"1\" class=\"dataframe\">\n",
              "  <thead>\n",
              "    <tr style=\"text-align: right;\">\n",
              "      <th></th>\n",
              "      <th>num_preg</th>\n",
              "      <th>glucose_conc</th>\n",
              "      <th>diastolic_bp</th>\n",
              "      <th>thickness</th>\n",
              "      <th>insulin</th>\n",
              "      <th>bmi</th>\n",
              "      <th>diab_pred</th>\n",
              "      <th>age</th>\n",
              "      <th>skin</th>\n",
              "      <th>diabetes</th>\n",
              "    </tr>\n",
              "  </thead>\n",
              "  <tbody>\n",
              "    <tr>\n",
              "      <th>num_preg</th>\n",
              "      <td>1.000000</td>\n",
              "      <td>0.129459</td>\n",
              "      <td>0.141282</td>\n",
              "      <td>-0.081672</td>\n",
              "      <td>-0.073535</td>\n",
              "      <td>0.017683</td>\n",
              "      <td>-0.033523</td>\n",
              "      <td>0.544341</td>\n",
              "      <td>-0.081673</td>\n",
              "      <td>0.221898</td>\n",
              "    </tr>\n",
              "    <tr>\n",
              "      <th>glucose_conc</th>\n",
              "      <td>0.129459</td>\n",
              "      <td>1.000000</td>\n",
              "      <td>0.152590</td>\n",
              "      <td>0.057328</td>\n",
              "      <td>0.331357</td>\n",
              "      <td>0.221071</td>\n",
              "      <td>0.137337</td>\n",
              "      <td>0.263514</td>\n",
              "      <td>0.057326</td>\n",
              "      <td>0.466581</td>\n",
              "    </tr>\n",
              "    <tr>\n",
              "      <th>diastolic_bp</th>\n",
              "      <td>0.141282</td>\n",
              "      <td>0.152590</td>\n",
              "      <td>1.000000</td>\n",
              "      <td>0.207371</td>\n",
              "      <td>0.088933</td>\n",
              "      <td>0.281805</td>\n",
              "      <td>0.041265</td>\n",
              "      <td>0.239528</td>\n",
              "      <td>0.207371</td>\n",
              "      <td>0.065068</td>\n",
              "    </tr>\n",
              "    <tr>\n",
              "      <th>thickness</th>\n",
              "      <td>-0.081672</td>\n",
              "      <td>0.057328</td>\n",
              "      <td>0.207371</td>\n",
              "      <td>1.000000</td>\n",
              "      <td>0.436783</td>\n",
              "      <td>0.392573</td>\n",
              "      <td>0.183928</td>\n",
              "      <td>-0.113970</td>\n",
              "      <td>1.000000</td>\n",
              "      <td>0.074752</td>\n",
              "    </tr>\n",
              "    <tr>\n",
              "      <th>insulin</th>\n",
              "      <td>-0.073535</td>\n",
              "      <td>0.331357</td>\n",
              "      <td>0.088933</td>\n",
              "      <td>0.436783</td>\n",
              "      <td>1.000000</td>\n",
              "      <td>0.197859</td>\n",
              "      <td>0.185071</td>\n",
              "      <td>-0.042163</td>\n",
              "      <td>0.436785</td>\n",
              "      <td>0.130548</td>\n",
              "    </tr>\n",
              "    <tr>\n",
              "      <th>bmi</th>\n",
              "      <td>0.017683</td>\n",
              "      <td>0.221071</td>\n",
              "      <td>0.281805</td>\n",
              "      <td>0.392573</td>\n",
              "      <td>0.197859</td>\n",
              "      <td>1.000000</td>\n",
              "      <td>0.140647</td>\n",
              "      <td>0.036242</td>\n",
              "      <td>0.392574</td>\n",
              "      <td>0.292695</td>\n",
              "    </tr>\n",
              "    <tr>\n",
              "      <th>diab_pred</th>\n",
              "      <td>-0.033523</td>\n",
              "      <td>0.137337</td>\n",
              "      <td>0.041265</td>\n",
              "      <td>0.183928</td>\n",
              "      <td>0.185071</td>\n",
              "      <td>0.140647</td>\n",
              "      <td>1.000000</td>\n",
              "      <td>0.033561</td>\n",
              "      <td>0.183927</td>\n",
              "      <td>0.173844</td>\n",
              "    </tr>\n",
              "    <tr>\n",
              "      <th>age</th>\n",
              "      <td>0.544341</td>\n",
              "      <td>0.263514</td>\n",
              "      <td>0.239528</td>\n",
              "      <td>-0.113970</td>\n",
              "      <td>-0.042163</td>\n",
              "      <td>0.036242</td>\n",
              "      <td>0.033561</td>\n",
              "      <td>1.000000</td>\n",
              "      <td>-0.113973</td>\n",
              "      <td>0.238356</td>\n",
              "    </tr>\n",
              "    <tr>\n",
              "      <th>skin</th>\n",
              "      <td>-0.081673</td>\n",
              "      <td>0.057326</td>\n",
              "      <td>0.207371</td>\n",
              "      <td>1.000000</td>\n",
              "      <td>0.436785</td>\n",
              "      <td>0.392574</td>\n",
              "      <td>0.183927</td>\n",
              "      <td>-0.113973</td>\n",
              "      <td>1.000000</td>\n",
              "      <td>0.074750</td>\n",
              "    </tr>\n",
              "    <tr>\n",
              "      <th>diabetes</th>\n",
              "      <td>0.221898</td>\n",
              "      <td>0.466581</td>\n",
              "      <td>0.065068</td>\n",
              "      <td>0.074752</td>\n",
              "      <td>0.130548</td>\n",
              "      <td>0.292695</td>\n",
              "      <td>0.173844</td>\n",
              "      <td>0.238356</td>\n",
              "      <td>0.074750</td>\n",
              "      <td>1.000000</td>\n",
              "    </tr>\n",
              "  </tbody>\n",
              "</table>\n",
              "</div>"
            ],
            "text/plain": [
              "              num_preg  glucose_conc  ...      skin  diabetes\n",
              "num_preg      1.000000      0.129459  ... -0.081673  0.221898\n",
              "glucose_conc  0.129459      1.000000  ...  0.057326  0.466581\n",
              "diastolic_bp  0.141282      0.152590  ...  0.207371  0.065068\n",
              "thickness    -0.081672      0.057328  ...  1.000000  0.074752\n",
              "insulin      -0.073535      0.331357  ...  0.436785  0.130548\n",
              "bmi           0.017683      0.221071  ...  0.392574  0.292695\n",
              "diab_pred    -0.033523      0.137337  ...  0.183927  0.173844\n",
              "age           0.544341      0.263514  ... -0.113973  0.238356\n",
              "skin         -0.081673      0.057326  ...  1.000000  0.074750\n",
              "diabetes      0.221898      0.466581  ...  0.074750  1.000000\n",
              "\n",
              "[10 rows x 10 columns]"
            ]
          },
          "metadata": {
            "tags": []
          },
          "execution_count": 10
        }
      ]
    },
    {
      "cell_type": "markdown",
      "metadata": {
        "id": "h6Pdw1hNQgGI"
      },
      "source": [
        "Para uma melhor análise sobre correlação, é interessante uma análise gráfica, onde habilitei a biblioteca de visualização Seaborn, no qual acredito que seja a mais completa e simples  para visualzação de dados."
      ]
    },
    {
      "cell_type": "code",
      "metadata": {
        "id": "XQTCD8xDWtT9",
        "colab": {
          "base_uri": "https://localhost:8080/",
          "height": 951
        },
        "outputId": "def377dc-d1dd-4479-ed1c-b9dfea5f56e9"
      },
      "source": [
        "# Gráfico de correlação\r\n",
        "fig, tam = plt.subplots(figsize=(10,15))\r\n",
        "sns.heatmap(corr, annot= True,linewidths=2, ax=tam, fmt='.1f')\r\n"
      ],
      "execution_count": 11,
      "outputs": [
        {
          "output_type": "execute_result",
          "data": {
            "text/plain": [
              "<matplotlib.axes._subplots.AxesSubplot at 0x7f74ea82c3c8>"
            ]
          },
          "metadata": {
            "tags": []
          },
          "execution_count": 11
        },
        {
          "output_type": "display_data",
          "data": {
            "image/png": "[encoded data removed]",
            "text/plain": [
              "<Figure size 720x1080 with 2 Axes>"
            ]
          },
          "metadata": {
            "tags": [],
            "needs_background": "light"
          }
        }
      ]
    },
    {
      "cell_type": "markdown",
      "metadata": {
        "id": "iBzP93mGSnO-"
      },
      "source": [
        "Uma vez explorado os dados, é visto que a  coluna 'diabetes' que será o nosso objetivo alvo de saída para definir se o paciente tem ou não diabetes, contém dados sem ser númericos. Lembrando que no modelo de aprendizagem  machine learning não  é aceito dados não númericos, logo, teremos que tratar tal variável. Como a variável apresenta dados categóricos (True e False), iremos substituí-los por 1 (True) e 0 (False), usando a função map() para mapeamento."
      ]
    },
    {
      "cell_type": "code",
      "metadata": {
        "colab": {
          "base_uri": "https://localhost:8080/",
          "height": 419
        },
        "id": "3o0UbUKwcLfs",
        "outputId": "871c7856-c6ed-42a2-e759-412ad8735172"
      },
      "source": [
        "# tratamento para dados Categóricos\r\n",
        "diabetes = {True:1 , False:0}\r\n",
        "data.diabetes = data.diabetes.map(diabetes)\r\n",
        "data"
      ],
      "execution_count": 12,
      "outputs": [
        {
          "output_type": "execute_result",
          "data": {
            "text/html": [
              "<div>\n",
              "<style scoped>\n",
              "    .dataframe tbody tr th:only-of-type {\n",
              "        vertical-align: middle;\n",
              "    }\n",
              "\n",
              "    .dataframe tbody tr th {\n",
              "        vertical-align: top;\n",
              "    }\n",
              "\n",
              "    .dataframe thead th {\n",
              "        text-align: right;\n",
              "    }\n",
              "</style>\n",
              "<table border=\"1\" class=\"dataframe\">\n",
              "  <thead>\n",
              "    <tr style=\"text-align: right;\">\n",
              "      <th></th>\n",
              "      <th>num_preg</th>\n",
              "      <th>glucose_conc</th>\n",
              "      <th>diastolic_bp</th>\n",
              "      <th>thickness</th>\n",
              "      <th>insulin</th>\n",
              "      <th>bmi</th>\n",
              "      <th>diab_pred</th>\n",
              "      <th>age</th>\n",
              "      <th>skin</th>\n",
              "      <th>diabetes</th>\n",
              "    </tr>\n",
              "  </thead>\n",
              "  <tbody>\n",
              "    <tr>\n",
              "      <th>0</th>\n",
              "      <td>6</td>\n",
              "      <td>148</td>\n",
              "      <td>72</td>\n",
              "      <td>35</td>\n",
              "      <td>0</td>\n",
              "      <td>33.6</td>\n",
              "      <td>0.627</td>\n",
              "      <td>50</td>\n",
              "      <td>1.3780</td>\n",
              "      <td>1</td>\n",
              "    </tr>\n",
              "    <tr>\n",
              "      <th>1</th>\n",
              "      <td>1</td>\n",
              "      <td>85</td>\n",
              "      <td>66</td>\n",
              "      <td>29</td>\n",
              "      <td>0</td>\n",
              "      <td>26.6</td>\n",
              "      <td>0.351</td>\n",
              "      <td>31</td>\n",
              "      <td>1.1426</td>\n",
              "      <td>0</td>\n",
              "    </tr>\n",
              "    <tr>\n",
              "      <th>2</th>\n",
              "      <td>8</td>\n",
              "      <td>183</td>\n",
              "      <td>64</td>\n",
              "      <td>0</td>\n",
              "      <td>0</td>\n",
              "      <td>23.3</td>\n",
              "      <td>0.672</td>\n",
              "      <td>32</td>\n",
              "      <td>0.0000</td>\n",
              "      <td>1</td>\n",
              "    </tr>\n",
              "    <tr>\n",
              "      <th>3</th>\n",
              "      <td>1</td>\n",
              "      <td>89</td>\n",
              "      <td>66</td>\n",
              "      <td>23</td>\n",
              "      <td>94</td>\n",
              "      <td>28.1</td>\n",
              "      <td>0.167</td>\n",
              "      <td>21</td>\n",
              "      <td>0.9062</td>\n",
              "      <td>0</td>\n",
              "    </tr>\n",
              "    <tr>\n",
              "      <th>4</th>\n",
              "      <td>0</td>\n",
              "      <td>137</td>\n",
              "      <td>40</td>\n",
              "      <td>35</td>\n",
              "      <td>168</td>\n",
              "      <td>43.1</td>\n",
              "      <td>2.288</td>\n",
              "      <td>33</td>\n",
              "      <td>1.3790</td>\n",
              "      <td>1</td>\n",
              "    </tr>\n",
              "    <tr>\n",
              "      <th>...</th>\n",
              "      <td>...</td>\n",
              "      <td>...</td>\n",
              "      <td>...</td>\n",
              "      <td>...</td>\n",
              "      <td>...</td>\n",
              "      <td>...</td>\n",
              "      <td>...</td>\n",
              "      <td>...</td>\n",
              "      <td>...</td>\n",
              "      <td>...</td>\n",
              "    </tr>\n",
              "    <tr>\n",
              "      <th>763</th>\n",
              "      <td>10</td>\n",
              "      <td>101</td>\n",
              "      <td>76</td>\n",
              "      <td>48</td>\n",
              "      <td>180</td>\n",
              "      <td>32.9</td>\n",
              "      <td>0.171</td>\n",
              "      <td>63</td>\n",
              "      <td>1.8912</td>\n",
              "      <td>0</td>\n",
              "    </tr>\n",
              "    <tr>\n",
              "      <th>764</th>\n",
              "      <td>2</td>\n",
              "      <td>122</td>\n",
              "      <td>70</td>\n",
              "      <td>27</td>\n",
              "      <td>0</td>\n",
              "      <td>36.8</td>\n",
              "      <td>0.340</td>\n",
              "      <td>27</td>\n",
              "      <td>1.0638</td>\n",
              "      <td>0</td>\n",
              "    </tr>\n",
              "    <tr>\n",
              "      <th>765</th>\n",
              "      <td>5</td>\n",
              "      <td>121</td>\n",
              "      <td>72</td>\n",
              "      <td>23</td>\n",
              "      <td>112</td>\n",
              "      <td>26.2</td>\n",
              "      <td>0.245</td>\n",
              "      <td>30</td>\n",
              "      <td>0.9062</td>\n",
              "      <td>0</td>\n",
              "    </tr>\n",
              "    <tr>\n",
              "      <th>766</th>\n",
              "      <td>1</td>\n",
              "      <td>126</td>\n",
              "      <td>60</td>\n",
              "      <td>0</td>\n",
              "      <td>0</td>\n",
              "      <td>30.1</td>\n",
              "      <td>0.349</td>\n",
              "      <td>47</td>\n",
              "      <td>0.0000</td>\n",
              "      <td>1</td>\n",
              "    </tr>\n",
              "    <tr>\n",
              "      <th>767</th>\n",
              "      <td>1</td>\n",
              "      <td>93</td>\n",
              "      <td>70</td>\n",
              "      <td>31</td>\n",
              "      <td>0</td>\n",
              "      <td>30.4</td>\n",
              "      <td>0.315</td>\n",
              "      <td>23</td>\n",
              "      <td>1.2214</td>\n",
              "      <td>0</td>\n",
              "    </tr>\n",
              "  </tbody>\n",
              "</table>\n",
              "<p>768 rows × 10 columns</p>\n",
              "</div>"
            ],
            "text/plain": [
              "     num_preg  glucose_conc  diastolic_bp  ...  age    skin  diabetes\n",
              "0           6           148            72  ...   50  1.3780         1\n",
              "1           1            85            66  ...   31  1.1426         0\n",
              "2           8           183            64  ...   32  0.0000         1\n",
              "3           1            89            66  ...   21  0.9062         0\n",
              "4           0           137            40  ...   33  1.3790         1\n",
              "..        ...           ...           ...  ...  ...     ...       ...\n",
              "763        10           101            76  ...   63  1.8912         0\n",
              "764         2           122            70  ...   27  1.0638         0\n",
              "765         5           121            72  ...   30  0.9062         0\n",
              "766         1           126            60  ...   47  0.0000         1\n",
              "767         1            93            70  ...   23  1.2214         0\n",
              "\n",
              "[768 rows x 10 columns]"
            ]
          },
          "metadata": {
            "tags": []
          },
          "execution_count": 12
        }
      ]
    },
    {
      "cell_type": "markdown",
      "metadata": {
        "id": "f7NL40Sr8P9a"
      },
      "source": [
        "Visalização gráfica de cada idade apresentada no dataset sobre a quantidade de positivos e negativos.\r\n"
      ]
    },
    {
      "cell_type": "code",
      "metadata": {
        "colab": {
          "base_uri": "https://localhost:8080/",
          "height": 624
        },
        "id": "I013BsP6Wk18",
        "outputId": "094c71b5-c2d3-4e05-ba9a-0e2c107804e5"
      },
      "source": [
        "a= data.age.value_counts().sort_values(ascending= False).index\r\n",
        "g= sns.countplot(x= 'age', order=a, data=data, hue= 'diabetes')\r\n",
        "sns.set(rc={'figure.figsize': (25.24, 10.24)})\r\n"
      ],
      "execution_count": null,
      "outputs": [
        {
          "output_type": "display_data",
          "data": {
            "image/png": "[encoded data removed]",
            "text/plain": [
              "<Figure size 1817.28x737.28 with 1 Axes>"
            ]
          },
          "metadata": {
            "tags": []
          }
        }
      ]
    },
    {
      "cell_type": "markdown",
      "metadata": {
        "id": "zC81jUGVWLA7"
      },
      "source": [
        "Analisando a contagem  de  dados positivos e negativos do dataset,  é possível observar que  resultados negativos para diabetes contemplam 65% da base total de dados. Onde para uma  melhor aprendizagem do modelo seria interessante um equilíbrio."
      ]
    },
    {
      "cell_type": "code",
      "metadata": {
        "colab": {
          "base_uri": "https://localhost:8080/"
        },
        "id": "hiAVymY0Gsit",
        "outputId": "d58f2e7d-4bbc-4f73-e1a9-0fef50187fb2"
      },
      "source": [
        "# valores de positivo e negativos\r\n",
        "positivo = len(data.loc[data.diabetes ==  True])\r\n",
        "negativo=len(data.loc[data.diabetes == False])\r\n",
        "P = positivo/(positivo + negativo) *100\r\n",
        "N= negativo/ (negativo + positivo)*100\r\n",
        "print('casos positivos :', positivo , '% 2.f' % P,'%')\r\n",
        "print('Casos Negativos :' , negativo , '% 2.f' % N,'%')\r\n"
      ],
      "execution_count": null,
      "outputs": [
        {
          "output_type": "stream",
          "text": [
            "casos positivos : 268  35 %\n",
            "Casos Negativos : 500  65 %\n"
          ],
          "name": "stdout"
        }
      ]
    },
    {
      "cell_type": "markdown",
      "metadata": {
        "id": "xGurVPUEWeiJ"
      },
      "source": [
        "Visualizando os resultados de positivos e negativo com o searborn, veja que em duas linhas de código é possível aplicar uma visualização sobre contagens de dados categóricos do dataset apresentado.\r\n",
        "\r\n",
        "---\r\n",
        "\r\n"
      ]
    },
    {
      "cell_type": "code",
      "metadata": {
        "colab": {
          "base_uri": "https://localhost:8080/",
          "height": 519
        },
        "id": "VRDvA704OZ7c",
        "outputId": "11adf386-75bf-41a2-eb47-c496d3e27cbc"
      },
      "source": [
        "sns.set(rc={'figure.figsize': (10,8)})\r\n",
        "sns.countplot(x= data['diabetes'], data=data)\r\n"
      ],
      "execution_count": 13,
      "outputs": [
        {
          "output_type": "execute_result",
          "data": {
            "text/plain": [
              "<matplotlib.axes._subplots.AxesSubplot at 0x7f74e15d1b00>"
            ]
          },
          "metadata": {
            "tags": []
          },
          "execution_count": 13
        },
        {
          "output_type": "display_data",
          "data": {
            "image/png": "[encoded data removed]",
            "text/plain": [
              "<Figure size 720x576 with 1 Axes>"
            ]
          },
          "metadata": {
            "tags": []
          }
        }
      ]
    },
    {
      "cell_type": "markdown",
      "metadata": {
        "id": "7Lkd_3SXWu3f"
      },
      "source": [
        "# **Preparando o modelo :**\r\n",
        "\r\n",
        "Agora chegou a hora de preparar os dados para treinamento, após a exploração realizada, o cientista de dados será habilitado a  identificar quais atributos (colunas) são mais relevantes para serem atribuídos ao treinamento do modelo, que terá como alvo (predição) a variável 'diabetes', ou seja, o nosso modelo terá  uma apredizagem de classificação supervisionada."
      ]
    },
    {
      "cell_type": "code",
      "metadata": {
        "id": "xd3XzuzAXj-Y"
      },
      "source": [
        "# Realização da divisão do dados em 'x' para atributos e 'y' para o ponto alvo dos resultados, o chamado target.\r\n",
        "target= data[['diabetes']]\r\n",
        "atributos= data[['num_preg', 'glucose_conc', 'diastolic_bp', 'thickness', 'insulin', 'bmi', 'diab_pred', 'age']]\r\n",
        "x= atributos.values\r\n",
        "y= target.values\r\n"
      ],
      "execution_count": 14,
      "outputs": []
    },
    {
      "cell_type": "markdown",
      "metadata": {
        "id": "UGIn8RE4xWDw"
      },
      "source": [
        "Existem várias técnicas para realizar a divisão dos dados para treinamento e teste, porém, com a função train_test_split() da biblioteca scikit-learn, a divisão é realizada sem problemas, onde as passagem dos paramêtro definem a forma de como deseja a divisão. "
      ]
    },
    {
      "cell_type": "code",
      "metadata": {
        "id": "U9EXnehka7Sc"
      },
      "source": [
        "# dividindo o modelo em treino e teste\r\n",
        "split_test_size  = 0.30\r\n",
        "x_treino, x_teste, y_treino, y_teste = train_test_split(x,y, test_size=split_test_size, random_state =42 )\r\n"
      ],
      "execution_count": 15,
      "outputs": []
    },
    {
      "cell_type": "code",
      "metadata": {
        "colab": {
          "base_uri": "https://localhost:8080/"
        },
        "id": "O6OLdzX-3tlw",
        "outputId": "97e04c26-33ed-43e1-f417-b3d175fda7fd"
      },
      "source": [
        "# verificando o resultado da divisão aplicada.\r\n",
        "\r\n",
        "print('dados de treino', len(x_treino),  '<>', len(x_treino)/ len(data.index)*100,'%')\r\n",
        "print('dados de teste', len(x_teste), '<>',len(x_teste)/len(data.index)*100 , '%' )"
      ],
      "execution_count": 16,
      "outputs": [
        {
          "output_type": "stream",
          "text": [
            "dados de treino 537 <> 69.921875 %\n",
            "dados de teste 231 <> 30.078125 %\n"
          ],
          "name": "stdout"
        }
      ]
    },
    {
      "cell_type": "markdown",
      "metadata": {
        "id": "VVar8xFE0WgY"
      },
      "source": [
        "Na fase de exploração de dados, foi analisado existência ou não de valores nulos em nosso dataset, porém, não aplicamos a análise de missing ocultos, que são valores que não são preenchidos de forma correta, em nosso dataset iremos análisar os dados zerados. Lembrando se caso não seja tratado  podem ser um problema para os resultados do modelo. "
      ]
    },
    {
      "cell_type": "code",
      "metadata": {
        "colab": {
          "base_uri": "https://localhost:8080/"
        },
        "id": "vwrFy0bg53qg",
        "outputId": "a1a113de-8fe6-4b97-84e8-deb3dc73ddab"
      },
      "source": [
        "# tratando dados missing (Verificando se existem dados nulos)\r\n",
        "data.isnull().sum().sort_values(ascending= True)\r\n",
        "\r\n",
        "\r\n"
      ],
      "execution_count": null,
      "outputs": [
        {
          "output_type": "execute_result",
          "data": {
            "text/plain": [
              "num_preg        0\n",
              "glucose_conc    0\n",
              "diastolic_bp    0\n",
              "thickness       0\n",
              "insulin         0\n",
              "bmi             0\n",
              "diab_pred       0\n",
              "age             0\n",
              "skin            0\n",
              "diabetes        0\n",
              "dtype: int64"
            ]
          },
          "metadata": {
            "tags": []
          },
          "execution_count": 55
        }
      ]
    },
    {
      "cell_type": "code",
      "metadata": {
        "colab": {
          "base_uri": "https://localhost:8080/"
        },
        "id": "pUMi7MEDKmLg",
        "outputId": "addcab57-77ba-4fcc-b68b-83d9137997f5"
      },
      "source": [
        "# verificando se existem dados preenchidos com zero.\r\n",
        "\r\n",
        "print('Age :',len(data.loc[data.age == 0]))\r\n",
        "print('num_preg:',len(data.loc[ data.num_preg == 0]))\r\n",
        "print('glucose_conc :', len(data.loc[data.glucose_conc==0]))\r\n",
        "print('diastolic_bp :', len(data.loc[data.diastolic_bp == 0]))\r\n",
        "print('thickness :', len(data.loc[data.thickness == 0]))\r\n",
        "print('insulin :', len(data.loc[data.insulin == 0]))\r\n",
        "print('bmi :', len(data.loc[data.bmi == 0]))\r\n",
        "\r\n",
        "\r\n",
        "\r\n",
        "\r\n",
        "\r\n",
        "\r\n",
        "\r\n"
      ],
      "execution_count": null,
      "outputs": [
        {
          "output_type": "stream",
          "text": [
            "Age : 0\n",
            "num_preg: 111\n",
            "glucose_conc : 5\n",
            "diastolic_bp : 35\n",
            "thickness : 227\n",
            "insulin : 374\n",
            "bmi : 11\n"
          ],
          "name": "stdout"
        }
      ]
    },
    {
      "cell_type": "markdown",
      "metadata": {
        "id": "03BxYjeZPndf"
      },
      "source": [
        "Existem vários métodos para tratamento de missing ocultos, porém, para este projeto escolhi o que irá atribuir os valores mais frequentes de cada variável. Neste caso, foi usado a biblioteca Impute do scikit-learn. Para mais detalhas sobre tal biblioteca deixo o link abaixo: \r\n",
        "\r\n",
        "https://bit.ly/3oPMDCD"
      ]
    },
    {
      "cell_type": "code",
      "metadata": {
        "id": "4FWfSkIUQYeU"
      },
      "source": [
        "from sklearn.impute import SimpleImputer\r\n",
        "subs = SimpleImputer(missing_values= 0 , strategy='most_frequent') \r\n",
        "x_treino = subs.fit_transform(x_treino)\r\n",
        "x_teste = subs.fit_transform(x_teste)"
      ],
      "execution_count": 18,
      "outputs": []
    },
    {
      "cell_type": "markdown",
      "metadata": {
        "id": "EGhY5FBOU_ve"
      },
      "source": [
        "# **Criando o Modelo**\r\n",
        "\r\n",
        "Após todo tratamento dos dados, é hora de criar o modelo de aprendizagem. No qual para o projeto será aplicado o algoritmo de Naive Bayes, que nada mais é que um classificador de probabilidade. Onde usando a função GaussianNB a probabilidade dos recursos é assumida como gaussiana.\r\n",
        "\r\n"
      ]
    },
    {
      "cell_type": "code",
      "metadata": {
        "colab": {
          "base_uri": "https://localhost:8080/"
        },
        "id": "bZrFJ1MdR5oj",
        "outputId": "4c02c132-691d-4909-8d56-cd5059d08f5a"
      },
      "source": [
        "from sklearn.naive_bayes import GaussianNB\r\n",
        "# instância o objeto a função preditora.\r\n",
        "modelo1 = GaussianNB()\r\n",
        "# treina o modelo\r\n",
        "modelo1.fit(x_treino, y_treino.ravel())   # ravel usado para ajustar o shape[]\r\n"
      ],
      "execution_count": 21,
      "outputs": [
        {
          "output_type": "execute_result",
          "data": {
            "text/plain": [
              "GaussianNB(priors=None, var_smoothing=1e-09)"
            ]
          },
          "metadata": {
            "tags": []
          },
          "execution_count": 21
        }
      ]
    },
    {
      "cell_type": "markdown",
      "metadata": {
        "id": "jefKguKTcznc"
      },
      "source": [
        "# **Treinando e Testando o  Modelo**\r\n",
        "\r\n",
        "Com o nosso modelo pronto, é hora de verificar a métrica do nosso treinamento e teste, onde para isso, irei utilizar a função metrics do sklearn. Assim, poderemos avaliar a acurácia do modelo desenvolvido."
      ]
    },
    {
      "cell_type": "code",
      "metadata": {
        "colab": {
          "base_uri": "https://localhost:8080/"
        },
        "id": "EJdIUUmxavOi",
        "outputId": "0e8c2dec-9d65-402d-b886-c6fa5f176c64"
      },
      "source": [
        "from sklearn import metrics\r\n",
        "predicao_treino =modelo1.predict(x_treino)\r\n",
        "print('A acurácia de treino de meu modelo foi: ', metrics.accuracy_score(y_treino, predicao_treino),'%') # Como passagem de paramêtro com a função metrics.accuracy_score é passado o que será avaliado, com o que foi treinado"
      ],
      "execution_count": 24,
      "outputs": [
        {
          "output_type": "stream",
          "text": [
            "A acurácia de treino de meu modelo foi:  0.750465549348231 %\n"
          ],
          "name": "stdout"
        }
      ]
    },
    {
      "cell_type": "code",
      "metadata": {
        "colab": {
          "base_uri": "https://localhost:8080/"
        },
        "id": "DQmjosqDhECU",
        "outputId": "a0b6705f-b1fe-4873-84d6-40442beaa9c6"
      },
      "source": [
        "# testando o modelo \r\n",
        "predicao_teste= modelo1.predict(x_teste)\r\n",
        "print('A acurácia de treino de meu modelo foi:', metrics.accuracy_score(y_teste,predicao_teste), '%') \r\n"
      ],
      "execution_count": 25,
      "outputs": [
        {
          "output_type": "stream",
          "text": [
            "A acurácia de treino de meu modelo foi: 0.7402597402597403 %\n"
          ],
          "name": "stdout"
        }
      ]
    },
    {
      "cell_type": "markdown",
      "metadata": {
        "id": "tTRdz4b2oGXo"
      },
      "source": [
        "# **Tabela de confusão**\r\n",
        "\r\n",
        "Por fim, é aplicado a chamada tabela de confusão para analisar com mais detalhe o quanto o  modelo obteve em seu desempenho. Observe que a saída da matriz é apresentado que no total de 231 avaliações de teste, o modelo desenvolvido obteve um acerto de 170 avaliações, ou seja, 74% de acurácia."
      ]
    },
    {
      "cell_type": "code",
      "metadata": {
        "colab": {
          "base_uri": "https://localhost:8080/"
        },
        "id": "DLtoNFi6hvRN",
        "outputId": "dcc90490-b3f5-4d8b-fbf4-75c3887bffb6"
      },
      "source": [
        "# tabela de confusão \r\n",
        "print(metrics.confusion_matrix(y_teste,predicao_teste, labels= [1,0] )) "
      ],
      "execution_count": null,
      "outputs": [
        {
          "output_type": "stream",
          "text": [
            "[[ 52  28]\n",
            " [ 33 118]]\n"
          ],
          "name": "stdout"
        }
      ]
    },
    {
      "cell_type": "markdown",
      "metadata": {
        "id": "MzbLfJ47qoOT"
      },
      "source": [
        "Observe que a função metrics.classification_report irá retorna todos os resultados da amostragem aplicada ao modelo. "
      ]
    },
    {
      "cell_type": "code",
      "metadata": {
        "colab": {
          "base_uri": "https://localhost:8080/"
        },
        "id": "G0rHu68up_92",
        "outputId": "0bc5510b-0604-4596-b0e2-3e1e7b0ded07"
      },
      "source": [
        "print(metrics.classification_report(y_teste,predicao_teste, labels= [1,0]))"
      ],
      "execution_count": null,
      "outputs": [
        {
          "output_type": "stream",
          "text": [
            "              precision    recall  f1-score   support\n",
            "\n",
            "           1       0.61      0.65      0.63        80\n",
            "           0       0.81      0.78      0.79       151\n",
            "\n",
            "    accuracy                           0.74       231\n",
            "   macro avg       0.71      0.72      0.71       231\n",
            "weighted avg       0.74      0.74      0.74       231\n",
            "\n"
          ],
          "name": "stdout"
        }
      ]
    }
  ]
}